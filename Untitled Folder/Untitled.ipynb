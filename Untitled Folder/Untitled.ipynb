{
 "cells": [
  {
   "cell_type": "code",
   "execution_count": 5,
   "id": "152f064c",
   "metadata": {},
   "outputs": [
    {
     "name": "stdout",
     "output_type": "stream",
     "text": [
      "{'age': 75,\n",
      " 'dob': '1883',\n",
      " 'name': 'bola tinubu',\n",
      " 'photo': 'https://cdn.punchng.com/wp-content/uploads/2022/05/12093007/Bola-Tinubu.jpg'}\n"
     ]
    }
   ],
   "source": [
    "import pprint\n",
    "\n",
    "info ={\n",
    "    \"name\": \"bola tinubu\",\n",
    "    \"age\": 75,\n",
    "    \"dob\": \"1883\",\n",
    "    \"photo\": \"https://cdn.punchng.com/wp-content/uploads/2022/05/12093007/Bola-Tinubu.jpg\"\n",
    "}\n",
    "\n",
    "pprint.pprint(info)"
   ]
  },
  {
   "cell_type": "code",
   "execution_count": 7,
   "id": "2dcbe685",
   "metadata": {},
   "outputs": [
    {
     "name": "stdout",
     "output_type": "stream",
     "text": [
      "{'age': 80,\n",
      " 'dob': '1883',\n",
      " 'name': 'bola tinubu',\n",
      " 'photo': 'https://www.icirnigeria.org/wp-content/uploads/2021/07/Tinubu.jpg'}\n"
     ]
    }
   ],
   "source": [
    "def change(variable, value):\n",
    "    info[variable] = value\n",
    "    \n",
    "\n",
    "change('photo', 'https://www.icirnigeria.org/wp-content/uploads/2021/07/Tinubu.jpg')\n",
    "\n",
    "pprint.pprint(info)"
   ]
  },
  {
   "cell_type": "code",
   "execution_count": null,
   "id": "486db4f9",
   "metadata": {},
   "outputs": [],
   "source": []
  }
 ],
 "metadata": {
  "kernelspec": {
   "display_name": "Python 3 (ipykernel)",
   "language": "python",
   "name": "python3"
  },
  "language_info": {
   "codemirror_mode": {
    "name": "ipython",
    "version": 3
   },
   "file_extension": ".py",
   "mimetype": "text/x-python",
   "name": "python",
   "nbconvert_exporter": "python",
   "pygments_lexer": "ipython3",
   "version": "3.9.7"
  }
 },
 "nbformat": 4,
 "nbformat_minor": 5
}
